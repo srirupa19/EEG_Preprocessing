{
 "cells": [
  {
   "attachments": {},
   "cell_type": "markdown",
   "metadata": {},
   "source": [
    "# **EEG Preprocessing**\n",
    "Steps to preprocess EEG data include the following:\n",
    "\n",
    "  - Importing the raw data\n",
    "  - Downsample the data\n",
    "  - Bandpass filter \n",
    "  - Re-reference data\n",
    "  - Run PREP pipeline to mark bad channels\n",
    "  - Run independent component analysis and reject noisy components\n",
    "  - Save preprocessed data\n",
    "  - These steps are sometimes done in a different order, or some of the steps omitted depending on a researcher's preference. \n",
    "\n",
    "The Python package used to run through each of these steps is MNE: https://mne.tools/stable/index.html"
   ]
  },
  {
   "attachments": {},
   "cell_type": "markdown",
   "metadata": {},
   "source": [
    "### **Data Description**\n",
    "\n",
    "![](Pictures\\Data.png)"
   ]
  },
  {
   "attachments": {},
   "cell_type": "markdown",
   "metadata": {},
   "source": [
    "### **What is our \"Clean\" data?**\n",
    "\n",
    "From the raw data, we identify and remove intervals of special procedures performed on patients during recordings, such as hyperventilation (deep breathing) and photic stimulation (flashing light). \n",
    "\n",
    "Also the recordings contain intervals with no signal. It is the results of turned off equipment or disconnected electrode. So we also have to avoid these flat intervals with zero signal. \n",
    "\n",
    "Thus target slices acquired only from clean intervals from each EEG, without flat intervals, hyperventilation and photic stimulation. \n",
    "\n",
    "#### Time domain plot of the clean data segment (5 seconds long plot is shown)\n",
    "![](Pictures/Clean_t.png)\n",
    "\n",
    "#### Power spectral density of the clean data segment (1 to 100 Hz)\n",
    "![](Pictures/Clean_psd.png)"
   ]
  },
  {
   "attachments": {},
   "cell_type": "markdown",
   "metadata": {},
   "source": [
    "### **Resampling**\n",
    "\n",
    "The sampling frequency of the data was changed from 512 Hz to 500 Hz. \n",
    "\n",
    "#### Time domain plot (5 seconds)\n",
    "![](Pictures/t_resample.png)\n",
    "\n",
    "#### Power Spectral Density plot\n",
    "![](Pictures/p_resample.png)"
   ]
  },
  {
   "attachments": {},
   "cell_type": "markdown",
   "metadata": {},
   "source": [
    "### **Bandpass Filtering the Data**\n",
    "\n",
    "The data needs to be filtered for low-frequency and high-frequency signal, which is often resultant from environmental/muscle noise in scalp EEG and otherwise is not generally the focus of analyses. Low-pass and high-pass filtering allows for noise below and above a certain frequency to remain in the data. \n",
    "\n",
    "This can done using the MNE command raw.filter( ), and you must specify what you want your band cut-offs to be. Typically, and depending on your planned analyses, filtering will be set around 1 and 100 Hertz for EEG signals and arounf 1 and 5 Hertz for EOG signals. \n",
    "\n",
    "Bandpass filtering will also have the effect of smoothing out the raw data, and typically looks different than raw data to the naked eye.\n",
    "\n",
    "`Note the change in EOG signals in the PSD plot`\n",
    "\n",
    "#### Time domain plot (5 seconds)\n",
    "![](Pictures/t_filter.png)\n",
    "\n",
    "#### Power Spectral Density plot\n",
    "![](Pictures/p_filter.png)\n"
   ]
  },
  {
   "attachments": {},
   "cell_type": "markdown",
   "metadata": {},
   "source": [
    "### **Applying the PREP Pipeline**\n",
    "\n",
    "What the PREP Pipeline does:\n",
    "- Remove line-noise without committing to a filtering strategy (60 Hz)\n",
    "- Robustly reference the signal relative to an estimate of the “true” average reference.\n",
    "- Detect and interpolate bad channels relative to this reference\n",
    "- Mark the interpolated channels as bad channels in the raw EEG data\n",
    "\n",
    "Further details about the PREP pipeline can be found at: https://www.frontiersin.org/articles/10.3389/fninf.2015.00016/full\n",
    "\n",
    "#### Time domain plot (5 seconds)\n",
    "![](Pictures/t_prep.png)\n",
    "\n",
    "#### Power Spectral Density plot \n",
    "![](Pictures/p_prep.png)"
   ]
  },
  {
   "attachments": {},
   "cell_type": "markdown",
   "metadata": {},
   "source": [
    "### **Running ICA**\n",
    "\n",
    "**Why use ICA?**\n",
    "\n",
    "There are many sensor electrodes simultaneously recording many neural activities like blinks, heartbeats, activity in different areas of the brain, muscular activity from jaw clenching or swallowing, etc. ICA aims to separate the sources, and then re-construct the sensor signals after excluding the sources that are unwanted.\n",
    "\n",
    "Hence, the next step after cleaning is to run it through Independent Component Analysis. This allows you to reject components of the data that seem to be heavily influenced by motor-related artifacts from blinking, jaw, neck, arm, or upper back movement.\n",
    "\n",
    "The biggest thing to look out for are hotspots of activity around the edges of the topoplot. Blink artifacts are typically easiest to identify using this method, as they appear near the very front of the topomap (around the frontal channels). Jaw artifacts appear at the very sides of the topomap. Otherwise, highly concentrated spots of activity are typically an artifact of one noisy channel.\n",
    "\n",
    "\n",
    "**Steps to remove artifacts**\n",
    "\n",
    "- Filtering to remove slow drifts\n",
    "- Fitting and plotting the solution\n",
    "- Using EOG channel to select which ICA components to remove\n",
    "- Visualising plots before and after applying ICA\n",
    "\n",
    "Notice that some of the labels are automatically greyed out. This is because MNE has the ability to auto-detect which IC's are a result of muscle noise when given information about EOG and ECG electrodes. It is imperfect so make sure to not blindly trust it. \n",
    "\n",
    "![](Pictures/ica1.png)\n",
    "\n",
    "### ICA Components (EOG)\n",
    "![](Pictures/ica_eog.png)\n",
    "\n",
    "#### Time domain plot before and after applying ICA (5 seconds)\n",
    "Before Applying ICA             |  After Applying ICA\n",
    ":-------------------------:|:-------------------------:\n",
    "![](Pictures/t_ica_eog_b.png)  |  ![](Pictures/t_ica_eog_a.png)\n",
    "\n",
    "#### Power Spectral Density plot before and after applying ICA\n",
    "Before Applying ICA             |  After Applying ICA\n",
    ":-------------------------:|:-------------------------:\n",
    "![](Pictures/p_ica_eog_b.png)  |  ![](Pictures/p_ica_eog_a.png)\n"
   ]
  },
  {
   "attachments": {},
   "cell_type": "markdown",
   "metadata": {},
   "source": [
    "### **Applying Current Source Density or Laplacian Transform**\n",
    "\n",
    "**Why CSD?**\n",
    "\n",
    "A single neural source contributes to EEG at many electrodes. Laplacian highlights the local features and acts as a spatial filter. It minimizes the contribution of deep and distant sources so that each electrode highlights a smaller region of the brain.\n",
    "\n",
    "![](Pictures/csd.png)\n",
    "\n",
    "\n",
    "#### Time domain plot (5 seconds)\n",
    "![](Pictures/t_csd.png)\n"
   ]
  }
 ],
 "metadata": {
  "kernelspec": {
   "display_name": "Python 3",
   "language": "python",
   "name": "python3"
  },
  "language_info": {
   "name": "python",
   "version": "3.10.8 (tags/v3.10.8:aaaf517, Oct 11 2022, 16:50:30) [MSC v.1933 64 bit (AMD64)]"
  },
  "orig_nbformat": 4,
  "vscode": {
   "interpreter": {
    "hash": "838c40999b31960f89b4db07acd61b90556158b018c211cdcfe41c5776f18a2f"
   }
  }
 },
 "nbformat": 4,
 "nbformat_minor": 2
}
